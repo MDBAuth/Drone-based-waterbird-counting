version https://git-lfs.github.com/spec/v1
oid sha256:7b26207b18a65469546b71aa5598429fed262e892f0ba24bb288829073cc538a
size 66934733
