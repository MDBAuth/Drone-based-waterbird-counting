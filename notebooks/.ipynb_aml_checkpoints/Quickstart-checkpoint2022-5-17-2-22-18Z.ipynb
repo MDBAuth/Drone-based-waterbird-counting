version https://git-lfs.github.com/spec/v1
oid sha256:9dccc76b2ac2e296b6b3e5c10ed733ec5c4302bfe982d41ba64209f84557be50
size 802769
