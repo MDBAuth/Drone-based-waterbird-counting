version https://git-lfs.github.com/spec/v1
oid sha256:a1d61db4838b8edc70f7a98c1d1921a043a2901a0b78b2b692a7ad0f794bb45e
size 114985
