{
  "cells": [
    {
      "cell_type": "code",
      "source": [
        "!pip install mxnet-cu112\n",
        "!pip install gluoncv"
      ],
      "outputs": [
        {
          "output_type": "stream",
          "name": "stdout",
          "text": "Requirement already satisfied: mxnet-cu112 in /anaconda/envs/azureml_py36/lib/python3.6/site-packages (1.9.0)\nRequirement already satisfied: graphviz<0.9.0,>=0.8.1 in /anaconda/envs/azureml_py36/lib/python3.6/site-packages (from mxnet-cu112) (0.8.4)\nRequirement already satisfied: requests<3,>=2.20.0 in /anaconda/envs/azureml_py36/lib/python3.6/site-packages (from mxnet-cu112) (2.25.1)\nRequirement already satisfied: numpy<2.0.0,>1.16.0 in /anaconda/envs/azureml_py36/lib/python3.6/site-packages (from mxnet-cu112) (1.18.5)\nRequirement already satisfied: chardet<5,>=3.0.2 in /anaconda/envs/azureml_py36/lib/python3.6/site-packages (from requests<3,>=2.20.0->mxnet-cu112) (4.0.0)\nRequirement already satisfied: urllib3<1.27,>=1.21.1 in /anaconda/envs/azureml_py36/lib/python3.6/site-packages (from requests<3,>=2.20.0->mxnet-cu112) (1.25.11)\nRequirement already satisfied: certifi>=2017.4.17 in /anaconda/envs/azureml_py36/lib/python3.6/site-packages (from requests<3,>=2.20.0->mxnet-cu112) (2021.5.30)\nRequirement already satisfied: idna<3,>=2.5 in /anaconda/envs/azureml_py36/lib/python3.6/site-packages (from requests<3,>=2.20.0->mxnet-cu112) (2.10)\nRequirement already satisfied: gluoncv in /anaconda/envs/azureml_py36/lib/python3.6/site-packages (0.10.5)\nRequirement already satisfied: portalocker in /anaconda/envs/azureml_py36/lib/python3.6/site-packages (from gluoncv) (1.7.1)\nRequirement already satisfied: requests in /anaconda/envs/azureml_py36/lib/python3.6/site-packages (from gluoncv) (2.25.1)\nRequirement already satisfied: scipy in /anaconda/envs/azureml_py36/lib/python3.6/site-packages (from gluoncv) (1.5.2)\nRequirement already satisfied: matplotlib in /anaconda/envs/azureml_py36/lib/python3.6/site-packages (from gluoncv) (3.2.1)\nRequirement already satisfied: opencv-python in /anaconda/envs/azureml_py36/lib/python3.6/site-packages (from gluoncv) (4.5.5.64)\nRequirement already satisfied: numpy in /anaconda/envs/azureml_py36/lib/python3.6/site-packages (from gluoncv) (1.18.5)\nRequirement already satisfied: pandas in /anaconda/envs/azureml_py36/lib/python3.6/site-packages (from gluoncv) (1.1.5)\nRequirement already satisfied: pyyaml in /anaconda/envs/azureml_py36/lib/python3.6/site-packages (from gluoncv) (5.4.1)\nRequirement already satisfied: autocfg in /anaconda/envs/azureml_py36/lib/python3.6/site-packages (from gluoncv) (0.0.8)\nRequirement already satisfied: tqdm in /anaconda/envs/azureml_py36/lib/python3.6/site-packages (from gluoncv) (4.61.1)\nRequirement already satisfied: Pillow in /anaconda/envs/azureml_py36/lib/python3.6/site-packages (from gluoncv) (8.3.1)\nRequirement already satisfied: yacs in /anaconda/envs/azureml_py36/lib/python3.6/site-packages (from gluoncv) (0.1.8)\nRequirement already satisfied: certifi>=2017.4.17 in /anaconda/envs/azureml_py36/lib/python3.6/site-packages (from requests->gluoncv) (2021.5.30)\nRequirement already satisfied: idna<3,>=2.5 in /anaconda/envs/azureml_py36/lib/python3.6/site-packages (from requests->gluoncv) (2.10)\nRequirement already satisfied: urllib3<1.27,>=1.21.1 in /anaconda/envs/azureml_py36/lib/python3.6/site-packages (from requests->gluoncv) (1.25.11)\nRequirement already satisfied: chardet<5,>=3.0.2 in /anaconda/envs/azureml_py36/lib/python3.6/site-packages (from requests->gluoncv) (4.0.0)\nRequirement already satisfied: cycler>=0.10 in /anaconda/envs/azureml_py36/lib/python3.6/site-packages (from matplotlib->gluoncv) (0.10.0)\nRequirement already satisfied: kiwisolver>=1.0.1 in /anaconda/envs/azureml_py36/lib/python3.6/site-packages (from matplotlib->gluoncv) (1.3.1)\nRequirement already satisfied: pyparsing!=2.0.4,!=2.1.2,!=2.1.6,>=2.0.1 in /anaconda/envs/azureml_py36/lib/python3.6/site-packages (from matplotlib->gluoncv) (2.4.7)\nRequirement already satisfied: python-dateutil>=2.1 in /anaconda/envs/azureml_py36/lib/python3.6/site-packages (from matplotlib->gluoncv) (2.8.1)\nRequirement already satisfied: pytz>=2017.2 in /anaconda/envs/azureml_py36/lib/python3.6/site-packages (from pandas->gluoncv) (2021.1)\nRequirement already satisfied: dataclasses; python_version < \"3.7\" in /anaconda/envs/azureml_py36/lib/python3.6/site-packages (from autocfg->gluoncv) (0.8)\nRequirement already satisfied: six in /anaconda/envs/azureml_py36/lib/python3.6/site-packages (from cycler>=0.10->matplotlib->gluoncv) (1.16.0)\n"
        }
      ],
      "execution_count": 5,
      "metadata": {
        "jupyter": {
          "source_hidden": false,
          "outputs_hidden": false
        },
        "nteract": {
          "transient": {
            "deleting": false
          }
        }
      },
      "id": "8229780c-bce8-4c46-bd7b-50d1148eadb3"
    },
    {
      "cell_type": "code",
      "source": [
        "%matplotlib inline\n",
        "\n",
        "# Uncomment and edit these commands depending on required versions...\n",
        "# ... may need to uninstall current versions\n",
        "\n",
        "# !pip install mxnet-cu112\n",
        "# !pip install gluoncv\n",
        "\n",
        "import os \n",
        "import yaml\n",
        "import numpy as np\n",
        "import mxnet as mx\n",
        "import json\n",
        "import boto3\n",
        "import cv2\n",
        "from matplotlib import pyplot as plt\n",
        "from gluoncv.utils import download, viz\n",
        "from collections import namedtuple\n",
        "from pathlib import Path\n",
        "from itertools import product\n",
        "from random import seed, shuffle\n",
        "from tqdm import tqdm\n",
        "from gluoncv import data as gdata\n",
        "from gluoncv.data.transforms.presets.ssd import SSDDefaultTrainTransform\n",
        "from gluoncv.data.batchify import Tuple, Stack, Pad\n",
        "from mxnet import gluon\n",
        "os.chdir('..')"
      ],
      "outputs": [
        {
          "output_type": "stream",
          "name": "stderr",
          "text": "/anaconda/envs/azureml_py36/lib/python3.6/site-packages/gluoncv/__init__.py:40: UserWarning: Both `mxnet==1.9.0` and `torch==1.9.0+cu102` are installed. You might encounter increased GPU memory footprint if both framework are used at the same time.\n  warnings.warn(f'Both `mxnet=={mx.__version__}` and `torch=={torch.__version__}` are installed. '\n"
        }
      ],
      "execution_count": 1,
      "metadata": {
        "gather": {
          "logged": 1647563943068
        }
      },
      "id": "64d64359-f6bc-4a54-9e8b-181e721ace14"
    },
    {
      "cell_type": "code",
      "source": [
        "%%time\n",
        "    \n",
        "def make_tmp_folder(folder_name):\n",
        "    try:\n",
        "        os.makedirs(folder_name)\n",
        "    except OSError as e:\n",
        "        print(\"{} folder already exists\".format(folder_name))\n",
        "        \n",
        "def get_ctx():\n",
        "    try:\n",
        "        gpus = mx.test_utils.list_gpus()\n",
        "        if len(gpus) > 0:\n",
        "            ctx = []\n",
        "            for gpu in gpus:\n",
        "                ctx.append(mx.gpu(gpu))\n",
        "        else:\n",
        "            ctx = [mx.cpu()]\n",
        "    except:\n",
        "        ctx = [mx.cpu()]\n",
        "    return ctx\n",
        "ctx = get_ctx()[0]\n",
        "print(ctx)\n",
        "TMP_FOLDER = \"Users/Ben.Bradshaw/bird-counting-master/bird-counting-master/models/detection/weights\"# './models/detection/weights'\n",
        "make_tmp_folder(TMP_FOLDER)\n",
        "\n",
        "Batch = namedtuple('Batch', ['data'])\n",
        "\n",
        "CLASSES = ['bird']\n",
        "SHAPE = 512\n",
        "input_shapes=[('data', (1, 3, SHAPE, SHAPE))]\n",
        "confidence_threshold = 0.1"
      ],
      "outputs": [
        {
          "output_type": "stream",
          "name": "stdout",
          "text": "cpu(0)\nCPU times: user 1.9 ms, sys: 5.27 ms, total: 7.17 ms\nWall time: 538 ms\n"
        }
      ],
      "execution_count": 10,
      "metadata": {},
      "id": "e80197b6-3558-41a8-9345-bde9be09f545"
    },
    {
      "cell_type": "code",
      "source": [
        "from gluoncv import model_zoo\n",
        "import mxnet as mx\n",
        "import numpy as np# Download the model from the Gluon model zoo\n",
        "# You'll find it in ~/.mxnet/models\n",
        "net = model_zoo.get_model('ssd_512_resnet50_v1_custom', pretrained=False, classes=['bird'])# Convert the model to symbolic format\n",
        "net.initialize(force_reinit=True)\n",
        "net.load_parameters(f\"{TMP_FOLDER}/best.params\")\n",
        "os.getcwd()\n",
        "# net.hybridize()# Build a fake image to run a single prediction\n",
        "# # # This is required to initialize the model properly\n",
        "# x = np.zeros([1,3,224,224])\n",
        "# x = mx.nd.array(x)# Predict the fake image\n",
        "# net.forward(x)# Export the model\n",
        "# net.export(f'{TMP_FOLDER}/best-model')\n",
        "\n",
        "net.collect_params().reset_ctx(ctx=[mx.gpu(0)])"
      ],
      "outputs": [
        {
          "output_type": "error",
          "ename": "MXNetError",
          "evalue": "Traceback (most recent call last):\n  File \"../3rdparty/dmlc-core/src/io/local_filesys.cc\", line 209\nLocalFileSystem: Check failed: allow_null: :Open \"Users/Ben.Bradshaw/bird-counting-master/bird-counting-master/models/detection/weights/best.params\": No such file or directory",
          "traceback": [
            "\u001b[0;31m---------------------------------------------------------------------------\u001b[0m",
            "\u001b[0;31mMXNetError\u001b[0m                                Traceback (most recent call last)",
            "\u001b[0;32m<ipython-input-11-5157edcb5878>\u001b[0m in \u001b[0;36m<module>\u001b[0;34m\u001b[0m\n\u001b[1;32m      5\u001b[0m \u001b[0mnet\u001b[0m \u001b[0;34m=\u001b[0m \u001b[0mmodel_zoo\u001b[0m\u001b[0;34m.\u001b[0m\u001b[0mget_model\u001b[0m\u001b[0;34m(\u001b[0m\u001b[0;34m'ssd_512_resnet50_v1_custom'\u001b[0m\u001b[0;34m,\u001b[0m \u001b[0mpretrained\u001b[0m\u001b[0;34m=\u001b[0m\u001b[0;32mFalse\u001b[0m\u001b[0;34m,\u001b[0m \u001b[0mclasses\u001b[0m\u001b[0;34m=\u001b[0m\u001b[0;34m[\u001b[0m\u001b[0;34m'bird'\u001b[0m\u001b[0;34m]\u001b[0m\u001b[0;34m)\u001b[0m\u001b[0;31m# Convert the model to symbolic format\u001b[0m\u001b[0;34m\u001b[0m\u001b[0;34m\u001b[0m\u001b[0m\n\u001b[1;32m      6\u001b[0m \u001b[0mnet\u001b[0m\u001b[0;34m.\u001b[0m\u001b[0minitialize\u001b[0m\u001b[0;34m(\u001b[0m\u001b[0mforce_reinit\u001b[0m\u001b[0;34m=\u001b[0m\u001b[0;32mTrue\u001b[0m\u001b[0;34m)\u001b[0m\u001b[0;34m\u001b[0m\u001b[0;34m\u001b[0m\u001b[0m\n\u001b[0;32m----> 7\u001b[0;31m \u001b[0mnet\u001b[0m\u001b[0;34m.\u001b[0m\u001b[0mload_parameters\u001b[0m\u001b[0;34m(\u001b[0m\u001b[0;34mf\"{TMP_FOLDER}/best.params\"\u001b[0m\u001b[0;34m)\u001b[0m\u001b[0;34m\u001b[0m\u001b[0;34m\u001b[0m\u001b[0m\n\u001b[0m\u001b[1;32m      8\u001b[0m \u001b[0mos\u001b[0m\u001b[0;34m.\u001b[0m\u001b[0mgetcwd\u001b[0m\u001b[0;34m(\u001b[0m\u001b[0;34m)\u001b[0m\u001b[0;34m\u001b[0m\u001b[0;34m\u001b[0m\u001b[0m\n\u001b[1;32m      9\u001b[0m \u001b[0;31m# net.hybridize()# Build a fake image to run a single prediction\u001b[0m\u001b[0;34m\u001b[0m\u001b[0;34m\u001b[0m\u001b[0;34m\u001b[0m\u001b[0m\n",
            "\u001b[0;32m/anaconda/envs/azureml_py36/lib/python3.6/site-packages/mxnet/gluon/block.py\u001b[0m in \u001b[0;36mload_parameters\u001b[0;34m(self, filename, ctx, allow_missing, ignore_extra, cast_dtype, dtype_source)\u001b[0m\n\u001b[1;32m    520\u001b[0m                     \u001b[0;32mraise\u001b[0m \u001b[0mValueError\u001b[0m\u001b[0;34m(\u001b[0m\u001b[0merr_msg\u001b[0m\u001b[0;34m)\u001b[0m\u001b[0;34m\u001b[0m\u001b[0;34m\u001b[0m\u001b[0m\n\u001b[1;32m    521\u001b[0m         \u001b[0;32melse\u001b[0m\u001b[0;34m:\u001b[0m\u001b[0;34m\u001b[0m\u001b[0;34m\u001b[0m\u001b[0m\n\u001b[0;32m--> 522\u001b[0;31m             \u001b[0mloaded\u001b[0m \u001b[0;34m=\u001b[0m \u001b[0mndarray\u001b[0m\u001b[0;34m.\u001b[0m\u001b[0mload\u001b[0m\u001b[0;34m(\u001b[0m\u001b[0mfilename\u001b[0m\u001b[0;34m)\u001b[0m\u001b[0;34m\u001b[0m\u001b[0;34m\u001b[0m\u001b[0m\n\u001b[0m\u001b[1;32m    523\u001b[0m         \u001b[0mparams\u001b[0m \u001b[0;34m=\u001b[0m \u001b[0mself\u001b[0m\u001b[0;34m.\u001b[0m\u001b[0m_collect_params_with_prefix\u001b[0m\u001b[0;34m(\u001b[0m\u001b[0;34m)\u001b[0m\u001b[0;34m\u001b[0m\u001b[0;34m\u001b[0m\u001b[0m\n\u001b[1;32m    524\u001b[0m         \u001b[0;32mif\u001b[0m \u001b[0;32mnot\u001b[0m \u001b[0mloaded\u001b[0m \u001b[0;32mand\u001b[0m \u001b[0;32mnot\u001b[0m \u001b[0mparams\u001b[0m\u001b[0;34m:\u001b[0m\u001b[0;34m\u001b[0m\u001b[0;34m\u001b[0m\u001b[0m\n",
            "\u001b[0;32m/anaconda/envs/azureml_py36/lib/python3.6/site-packages/mxnet/ndarray/utils.py\u001b[0m in \u001b[0;36mload\u001b[0;34m(fname)\u001b[0m\n\u001b[1;32m    173\u001b[0m                                   \u001b[0mctypes\u001b[0m\u001b[0;34m.\u001b[0m\u001b[0mbyref\u001b[0m\u001b[0;34m(\u001b[0m\u001b[0mhandles\u001b[0m\u001b[0;34m)\u001b[0m\u001b[0;34m,\u001b[0m\u001b[0;34m\u001b[0m\u001b[0;34m\u001b[0m\u001b[0m\n\u001b[1;32m    174\u001b[0m                                   \u001b[0mctypes\u001b[0m\u001b[0;34m.\u001b[0m\u001b[0mbyref\u001b[0m\u001b[0;34m(\u001b[0m\u001b[0mout_name_size\u001b[0m\u001b[0;34m)\u001b[0m\u001b[0;34m,\u001b[0m\u001b[0;34m\u001b[0m\u001b[0;34m\u001b[0m\u001b[0m\n\u001b[0;32m--> 175\u001b[0;31m                                   ctypes.byref(names)))\n\u001b[0m\u001b[1;32m    176\u001b[0m     \u001b[0;32mif\u001b[0m \u001b[0mout_name_size\u001b[0m\u001b[0;34m.\u001b[0m\u001b[0mvalue\u001b[0m \u001b[0;34m==\u001b[0m \u001b[0;36m0\u001b[0m\u001b[0;34m:\u001b[0m\u001b[0;34m\u001b[0m\u001b[0;34m\u001b[0m\u001b[0m\n\u001b[1;32m    177\u001b[0m         \u001b[0;32mreturn\u001b[0m \u001b[0;34m[\u001b[0m\u001b[0m_ndarray_cls\u001b[0m\u001b[0;34m(\u001b[0m\u001b[0mNDArrayHandle\u001b[0m\u001b[0;34m(\u001b[0m\u001b[0mhandles\u001b[0m\u001b[0;34m[\u001b[0m\u001b[0mi\u001b[0m\u001b[0;34m]\u001b[0m\u001b[0;34m)\u001b[0m\u001b[0;34m)\u001b[0m \u001b[0;32mfor\u001b[0m \u001b[0mi\u001b[0m \u001b[0;32min\u001b[0m \u001b[0mrange\u001b[0m\u001b[0;34m(\u001b[0m\u001b[0mout_size\u001b[0m\u001b[0;34m.\u001b[0m\u001b[0mvalue\u001b[0m\u001b[0;34m)\u001b[0m\u001b[0;34m]\u001b[0m\u001b[0;34m\u001b[0m\u001b[0;34m\u001b[0m\u001b[0m\n",
            "\u001b[0;32m/anaconda/envs/azureml_py36/lib/python3.6/site-packages/mxnet/base.py\u001b[0m in \u001b[0;36mcheck_call\u001b[0;34m(ret)\u001b[0m\n\u001b[1;32m    244\u001b[0m     \"\"\"\n\u001b[1;32m    245\u001b[0m     \u001b[0;32mif\u001b[0m \u001b[0mret\u001b[0m \u001b[0;34m!=\u001b[0m \u001b[0;36m0\u001b[0m\u001b[0;34m:\u001b[0m\u001b[0;34m\u001b[0m\u001b[0;34m\u001b[0m\u001b[0m\n\u001b[0;32m--> 246\u001b[0;31m         \u001b[0;32mraise\u001b[0m \u001b[0mget_last_ffi_error\u001b[0m\u001b[0;34m(\u001b[0m\u001b[0;34m)\u001b[0m\u001b[0;34m\u001b[0m\u001b[0;34m\u001b[0m\u001b[0m\n\u001b[0m\u001b[1;32m    247\u001b[0m \u001b[0;34m\u001b[0m\u001b[0m\n\u001b[1;32m    248\u001b[0m \u001b[0;34m\u001b[0m\u001b[0m\n",
            "\u001b[0;31mMXNetError\u001b[0m: Traceback (most recent call last):\n  File \"../3rdparty/dmlc-core/src/io/local_filesys.cc\", line 209\nLocalFileSystem: Check failed: allow_null: :Open \"Users/Ben.Bradshaw/bird-counting-master/bird-counting-master/models/detection/weights/best.params\": No such file or directory"
          ]
        }
      ],
      "execution_count": 11,
      "metadata": {
        "tags": [],
        "gather": {
          "logged": 1655437376365
        }
      },
      "id": "3726d7c8-6c0b-4174-9ea4-6656198be4ea"
    },
    {
      "cell_type": "code",
      "source": [
        "# Make sure to swap ../mxnet-ssd/deploy.py for your local path to mxnet-ssd/deploy.py\n",
        "!export MXNET_CUDNN_LIB_CHECKING=0 && export MXNET_EXAMPLE_SSD_DISABLE_PRE_INSTALLED=1 && python ./mxnet-ssd/deploy.py --network resnet50 --num-class 1 --nms .45 --data-shape 512 --prefix $TMP_FOLDER/best-model\n",
        "\n",
        "param_path=os.path.join(TMP_FOLDER, 'deploy_best-model')\n",
        "print(\"param_path: {}\".format(param_path))\n",
        "sym, arg_params, aux_params = mx.model.load_checkpoint(param_path, 0)\n",
        "mod = mx.mod.Module(symbol=sym, label_names=[], context=ctx)\n",
        "mod.bind(for_training=False, data_shapes=input_shapes)\n",
        "mod.set_params(arg_params, aux_params, allow_missing=True, allow_extra=True)"
      ],
      "outputs": [
        {
          "output_type": "stream",
          "name": "stdout",
          "text": "Saved model: ./models/detection/weights/deploy_best-model-0000.params\nSaved symbol: ./models/detection/weights/deploy_best-model-symbol.json\nparam_path: ./models/detection/weights/deploy_best-model\n"
        }
      ],
      "execution_count": 30,
      "metadata": {},
      "id": "e0c2f0fd-5168-42ed-876a-0018a8a16d32"
    },
    {
      "cell_type": "code",
      "source": [
        "def ensure_path(path: str) -> Path:\n",
        "    path = Path(path)\n",
        "    if not os.path.exists(path):\n",
        "        os.makedirs(path)\n",
        "    return path\n",
        "\n",
        "class Tiler():\n",
        "    def __init__(self, w=8192, h=5460, dw=512, dh=546, stride=1):\n",
        "        self.w = w\n",
        "        self.h = h\n",
        "        self.dw = dw\n",
        "        self.dh = dh\n",
        "        self.stride = stride\n",
        "        self.offset = (self.dw*self.stride, self.dh*self.stride)\n",
        "        self.cols = int(np.ceil(self.w / self.offset[0]))\n",
        "        self.rows = int(np.ceil(self.h / self.offset[1]))\n",
        "        \n",
        "    def get_tile_dict(self):\n",
        "        \n",
        "        tile_dict = {}\n",
        "        for col, row in product(range(self.cols), range(self.rows)):\n",
        "            top = int(self.offset[1]*row)\n",
        "            bottom = top + self.dh\n",
        "            left = int(self.offset[0]*col)\n",
        "            right = left + self.dw\n",
        "            \n",
        "            tile_dict[(col,row)] = (top, bottom, left, right)\n",
        "        return tile_dict\n",
        "    \n",
        "    def get_tile_id_from_point(self, tile_dict, point):\n",
        "        step = int(1/self.stride)\n",
        "        x = point['x']\n",
        "        y = point['y']\n",
        "        \n",
        "        id_x1 = int(np.floor(x/self.offset[0]))\n",
        "        id_x1 = id_x1 if not id_x1 == self.cols else self.cols-1\n",
        "        id_y1 = int(np.floor(y/self.offset[1]))\n",
        "        id_y1 = id_y1 if not id_y1 == self.rows else self.rows-1\n",
        "        id_1 = (id_x1, id_y1)\n",
        "        \n",
        "        return id_1\n",
        "\n",
        "def predict_from_file(filepath, reshape=(SHAPE, SHAPE)):\n",
        "    # Switch RGB to BGR format (which ImageNet networks take)\n",
        "    img = cv2.cvtColor(cv2.imread(filepath), cv2.COLOR_BGR2RGB)\n",
        "    if img is None:\n",
        "        return []\n",
        "\n",
        "     # Resize image to fit network input\n",
        "    img = cv2.resize(img, reshape)\n",
        "    \n",
        "    org_image = img.copy()\n",
        "    img = np.swapaxes(img, 0, 2)\n",
        "    img = np.swapaxes(img, 1, 2)\n",
        "    img = img[np.newaxis, :]\n",
        "\n",
        "    mod.forward(Batch([mx.nd.array(img)]))\n",
        "    prob = mod.get_outputs()[0].asnumpy()\n",
        "    prob = np.squeeze(prob)\n",
        "\n",
        "    return prob, org_image\n",
        "\n",
        "def infer(image_path, threshold=confidence_threshold):\n",
        "    results, org_image = predict_from_file(image_path)\n",
        "    image_name = image_path.split(\"/\")[-1]\n",
        "    \n",
        "    filtered_result = results[results[:, 0] != -1]\n",
        "    filtered_result = filtered_result[filtered_result[:, 1] >=threshold]\n",
        "    \n",
        "    return filtered_result, org_image"
      ],
      "outputs": [],
      "execution_count": 20,
      "metadata": {},
      "id": "77a063fc-1d68-4dd7-9c6c-5c6ce17e2198"
    },
    {
      "cell_type": "code",
      "source": [
        "with open('./params.yaml', 'r') as params_file:\n",
        "    params = yaml.safe_load(params_file)\n",
        "    raw_dir = Path(params['data']['raw_dir'])\n",
        "\n",
        "points_path = raw_dir / 'Points_25Nov_01_FINAL.pnt'\n",
        "with open(points_path) as file:\n",
        "    data = file.read()\n",
        "    data = json.loads(data)\n",
        "    points_dict = data.get('points')\n",
        "    \n",
        "tl = Tiler()\n",
        "tile_dict = tl.get_tile_dict()\n",
        "\n",
        "nonempty_tile_dict = {}\n",
        "tile_count = 0\n",
        "for img_id, coords_dict in points_dict.items():\n",
        "    tile_list = []\n",
        "    for _, pts in coords_dict.items():\n",
        "        for pt in pts:\n",
        "#             import ipdb; ipdb.set_trace()\n",
        "            tile_id = tl.get_tile_id_from_point(tile_dict, pt)\n",
        "            tile_list.append(tile_id)\n",
        "    tile_set = set(tile_list)\n",
        "    tile_count += len(tile_set)\n",
        "    if tile_set:\n",
        "        nonempty_tile_dict[img_id] = tile_set\n",
        "print(tile_count)\n",
        "\n",
        "nonempty_ids = list(nonempty_tile_dict.keys())\n",
        "nonempty_ids = [int(os.path.splitext(id.split(\"_\")[2])[0]) for id in nonempty_ids]\n",
        "print(len(nonempty_ids))\n",
        "seed(1)\n",
        "shuffle(nonempty_ids)\n",
        "hold_ids = nonempty_ids[:17]\n",
        "rem_ids = nonempty_ids[17:]\n",
        "\n",
        "count_dict = {}\n",
        "for img_id, data in points_dict.items():\n",
        "    c1 = 0\n",
        "    c2 = 0\n",
        "    if data.get('Nesting'):\n",
        "        c1 = len(data.get('Nesting'))\n",
        "    if data.get('Flying'):\n",
        "        c2 = len(data.get('Flying'))\n",
        "    count_dict[img_id] = c1+c2"
      ],
      "outputs": [
        {
          "output_type": "stream",
          "name": "stdout",
          "text": "2744\n117\n"
        }
      ],
      "execution_count": 31,
      "metadata": {},
      "id": "d902e4a3-cea8-4cb3-b99b-9b708e5fa6f3"
    },
    {
      "cell_type": "code",
      "source": [
        "!cat $TMP_FOLDER/hyperparams.json"
      ],
      "outputs": [
        {
          "output_type": "stream",
          "name": "stdout",
          "text": "cat: ./models/detection/weights/hyperparams.json: No such file or directory\n"
        }
      ],
      "execution_count": 9,
      "metadata": {},
      "id": "7fd407ec-78b1-4e7e-ac49-8483934146b0"
    },
    {
      "cell_type": "code",
      "source": [
        "%%time\n",
        "VALIDATION_IMAGE_FOLDER = '../data/nonempty-slices/holdout-inference'\n",
        "make_tmp_folder(VALIDATION_IMAGE_FOLDER)\n",
        "img_list = os.listdir(VALIDATION_IMAGE_FOLDER)\n",
        "output_file = '../results/latest-model/all-holdout-inference-results.json'\n",
        "with open(output_file, \"w\") as outfile:\n",
        "    for img in tqdm(img_list):\n",
        "        if img.endswith(\"jpg\"):\n",
        "            result,_orig = infer(os.path.join(VALIDATION_IMAGE_FOLDER, img))\n",
        "            to_write = {\"image\": img, \"prediction\": result.tolist()}\n",
        "            outfile.write(json.dumps(to_write))\n",
        "            outfile.write('\\n')"
      ],
      "outputs": [
        {
          "output_type": "stream",
          "name": "stdout",
          "text": "../data/nonempty-slices/holdout-inference folder already exists\nCPU times: user 1.98 ms, sys: 8.1 ms, total: 10.1 ms\nWall time: 8.95 ms\n"
        }
      ],
      "execution_count": 11,
      "metadata": {},
      "id": "74f15493-a1c6-48f0-ac38-86441c0c9ac0"
    },
    {
      "cell_type": "code",
      "source": [
        "def count_raw(file_points_dict, bbox):\n",
        "    c = 0\n",
        "    for pose, data in file_points_dict.items():\n",
        "        for point in data:\n",
        "            x = point['x']\n",
        "            y = point['y']\n",
        "            if l<x<r and t<y<b:\n",
        "                c+=1\n",
        "    return c\n",
        "\n",
        "with open('./params.yaml', 'r') as params_file:\n",
        "    params = yaml.safe_load(params_file)\n",
        "    raw_dir = Path(params['data']['raw_dir'])\n",
        "\n",
        "points_path = raw_dir / 'Points_25Nov_01_FINAL.pnt'\n",
        "\n",
        "with open(points_path) as file:\n",
        "    data = file.read()\n",
        "    data = json.loads(data)\n",
        "    points_dict = data.get('points')"
      ],
      "outputs": [],
      "execution_count": null,
      "metadata": {},
      "id": "134b906a-822d-4395-b0a0-9acbba0470cb"
    },
    {
      "cell_type": "code",
      "source": [
        "# print(os.chdir('..'))\n",
        "# test_lists = ['./training/labels/val.lst']\n",
        "# test_lists = ['./training/labels/train.lst']\n",
        "test_lists = ['./training/labels/test005.lst','./training/labels/test007.lst','./training/labels/test011.lst','./training/labels/test015.lst',\n",
        "              './training/labels/test021.lst','./training/labels/test034.lst','./training/labels/test037.lst','./training/labels/test040.lst',\n",
        "              './training/labels/test047.lst','./training/labels/test078.lst','./training/labels/test109.lst','./training/labels/test113.lst',\n",
        "              './training/labels/test124.lst','./training/labels/test137.lst','./training/labels/test190.lst','./training/labels/test200.lst',\n",
        "              './training/labels/test201.lst']\n",
        "all_pr_counts = 0\n",
        "all_gt_counts = 0\n",
        "for test_list in test_lists:\n",
        "    val_batchify_fn = Tuple(Stack(), Pad(pad_val=-1))\n",
        "    val_dataset = gdata.LstDetection(root='', filename=test_list)\n",
        "    batch_size=16\n",
        "\n",
        "    val_loader = gluon.data.DataLoader(\n",
        "            val_dataset.transform(SSDDefaultTrainTransform(512, 512)),\n",
        "            batch_size, False, batchify_fn=val_batchify_fn, last_batch='keep', num_workers=4)\n",
        "\n",
        "    # set nms threshold and topk constraint\n",
        "    net.set_nms(nms_thresh=0.45, nms_topk=400)\n",
        "    net.hybridize(static_alloc=True, static_shape=True)\n",
        "    i = 0\n",
        "    pr_counts = 0\n",
        "    for batch in tqdm(val_loader):\n",
        "        data = gluon.utils.split_and_load(batch[0], ctx_list=[mx.gpu()], batch_axis=0, even_split=True)\n",
        "        label = gluon.utils.split_and_load(batch[1], ctx_list=[mx.gpu()], batch_axis=0, even_split=True)\n",
        "        det_bboxes = []\n",
        "        det_ids = []\n",
        "        det_scores = []\n",
        "        gt_bboxes = []\n",
        "        gt_ids = []\n",
        "        gt_difficults = []\n",
        "        for x, y in zip(data, label):\n",
        "            ids, scores, bboxes = net(x)\n",
        "            np_scores = np.array([score.asnumpy()[0] for score in scores[0]])\n",
        "            pr_counts+=len(np_scores[np_scores>0.49])*batch_size\n",
        "\n",
        "    with open(test_list,'r') as fr:\n",
        "        data = fr.readlines()\n",
        "    samples = []\n",
        "    gt_counts = 0\n",
        "    for datum in data:\n",
        "        filename = os.path.basename(datum.split('\\t')[-1].replace('\\n',''))\n",
        "        slice_bbox = filename.split('_')[-4:]\n",
        "        slice_bbox = [int(os.path.splitext(elem[1:])[0]) for elem in slice_bbox]\n",
        "        t,b,l,r = slice_bbox\n",
        "        sample = {\n",
        "            'filename': filename,\n",
        "            'slice_box': slice_bbox\n",
        "        }\n",
        "        samples.append(sample)\n",
        "        raw_file = '_'.join(filename.split('_')[:3])+'.JPG'\n",
        "        gt_count = count_raw(points_dict[raw_file], slice_bbox)\n",
        "        gt_counts+=gt_count\n",
        "    #     import ipdb; ipdb.set_trace()\n",
        "    print(f\"Ground truth counts: {gt_counts}\")\n",
        "    print(f\"Predicted counts: {pr_counts}\")\n",
        "    print(f\"Percentage for image {os.path.splitext(os.path.basename(test_list))[0][4:]}: {round(100*pr_counts/gt_counts,2)}\")\n",
        "    all_gt_counts+=gt_counts\n",
        "    all_pr_counts+=pr_counts\n",
        "print(f\"Total ground truth counts: {all_gt_counts}\")\n",
        "print(f\"Total predicted counts: {all_pr_counts}\")\n",
        "print(f\"Overall Percentage is: {round(100*all_pr_counts/all_gt_counts,2)}\")"
      ],
      "outputs": [
        {
          "output_type": "stream",
          "name": "stderr",
          "text": "100%|████████████████████████████████████████████████████████████████████████████████████████████████████| 10/10 [00:05<00:00,  1.72it/s]"
        },
        {
          "output_type": "stream",
          "name": "stdout",
          "text": "Ground truth counts: 545\nPredicted counts: 928\nPercentage for image 005: 170.28\n"
        },
        {
          "output_type": "stream",
          "name": "stderr",
          "text": "\n100%|████████████████████████████████████████████████████████████████████████████████████████████████████| 10/10 [00:05<00:00,  1.77it/s]"
        },
        {
          "output_type": "stream",
          "name": "stdout",
          "text": "Ground truth counts: 470\nPredicted counts: 1216\nPercentage for image 007: 258.72\n"
        },
        {
          "output_type": "stream",
          "name": "stderr",
          "text": "\n100%|████████████████████████████████████████████████████████████████████████████████████████████████████| 10/10 [00:05<00:00,  1.75it/s]"
        },
        {
          "output_type": "stream",
          "name": "stdout",
          "text": "Ground truth counts: 171\nPredicted counts: 352\nPercentage for image 011: 205.85\n"
        },
        {
          "output_type": "stream",
          "name": "stderr",
          "text": "\n100%|████████████████████████████████████████████████████████████████████████████████████████████████████| 10/10 [00:05<00:00,  1.78it/s]"
        },
        {
          "output_type": "stream",
          "name": "stdout",
          "text": "Ground truth counts: 263\nPredicted counts: 864\nPercentage for image 015: 328.52\n"
        },
        {
          "output_type": "stream",
          "name": "stderr",
          "text": "\n100%|████████████████████████████████████████████████████████████████████████████████████████████████████| 10/10 [00:05<00:00,  1.76it/s]"
        },
        {
          "output_type": "stream",
          "name": "stdout",
          "text": "Ground truth counts: 233\nPredicted counts: 656\nPercentage for image 021: 281.55\n"
        },
        {
          "output_type": "stream",
          "name": "stderr",
          "text": "\n100%|████████████████████████████████████████████████████████████████████████████████████████████████████| 10/10 [00:05<00:00,  1.76it/s]"
        },
        {
          "output_type": "stream",
          "name": "stdout",
          "text": "Ground truth counts: 1313\nPredicted counts: 2176\nPercentage for image 034: 165.73\n"
        },
        {
          "output_type": "stream",
          "name": "stderr",
          "text": "\n100%|████████████████████████████████████████████████████████████████████████████████████████████████████| 10/10 [00:05<00:00,  1.78it/s]"
        },
        {
          "output_type": "stream",
          "name": "stdout",
          "text": "Ground truth counts: 1267\nPredicted counts: 2736\nPercentage for image 037: 215.94\n"
        },
        {
          "output_type": "stream",
          "name": "stderr",
          "text": "\n100%|████████████████████████████████████████████████████████████████████████████████████████████████████| 10/10 [00:05<00:00,  1.76it/s]"
        },
        {
          "output_type": "stream",
          "name": "stdout",
          "text": "Ground truth counts: 195\nPredicted counts: 592\nPercentage for image 040: 303.59\n"
        },
        {
          "output_type": "stream",
          "name": "stderr",
          "text": "\n100%|████████████████████████████████████████████████████████████████████████████████████████████████████| 10/10 [00:05<00:00,  1.83it/s]"
        },
        {
          "output_type": "stream",
          "name": "stdout",
          "text": "Ground truth counts: 1\nPredicted counts: 416\nPercentage for image 047: 41600.0\n"
        },
        {
          "output_type": "stream",
          "name": "stderr",
          "text": "\n100%|████████████████████████████████████████████████████████████████████████████████████████████████████| 10/10 [00:05<00:00,  1.77it/s]"
        },
        {
          "output_type": "stream",
          "name": "stdout",
          "text": "Ground truth counts: 1807\nPredicted counts: 1984\nPercentage for image 078: 109.8\n"
        },
        {
          "output_type": "stream",
          "name": "stderr",
          "text": "\n100%|████████████████████████████████████████████████████████████████████████████████████████████████████| 10/10 [00:05<00:00,  1.76it/s]"
        },
        {
          "output_type": "stream",
          "name": "stdout",
          "text": "Ground truth counts: 1\nPredicted counts: 336\nPercentage for image 109: 33600.0\n"
        },
        {
          "output_type": "stream",
          "name": "stderr",
          "text": "\n100%|████████████████████████████████████████████████████████████████████████████████████████████████████| 10/10 [00:05<00:00,  1.76it/s]"
        },
        {
          "output_type": "stream",
          "name": "stdout",
          "text": "Ground truth counts: 2094\nPredicted counts: 2080\nPercentage for image 113: 99.33\n"
        },
        {
          "output_type": "stream",
          "name": "stderr",
          "text": "\n100%|████████████████████████████████████████████████████████████████████████████████████████████████████| 10/10 [00:05<00:00,  1.74it/s]"
        },
        {
          "output_type": "stream",
          "name": "stdout",
          "text": "Ground truth counts: 1\nPredicted counts: 320\nPercentage for image 124: 32000.0\n"
        },
        {
          "output_type": "stream",
          "name": "stderr",
          "text": "\n100%|████████████████████████████████████████████████████████████████████████████████████████████████████| 10/10 [00:05<00:00,  1.77it/s]"
        },
        {
          "output_type": "stream",
          "name": "stdout",
          "text": "Ground truth counts: 3\nPredicted counts: 384\nPercentage for image 137: 12800.0\n"
        },
        {
          "output_type": "stream",
          "name": "stderr",
          "text": "\n100%|████████████████████████████████████████████████████████████████████████████████████████████████████| 10/10 [00:05<00:00,  1.77it/s]"
        },
        {
          "output_type": "stream",
          "name": "stdout",
          "text": "Ground truth counts: 1\nPredicted counts: 336\nPercentage for image 190: 33600.0\n"
        },
        {
          "output_type": "stream",
          "name": "stderr",
          "text": "\n100%|████████████████████████████████████████████████████████████████████████████████████████████████████| 10/10 [00:05<00:00,  1.78it/s]"
        },
        {
          "output_type": "stream",
          "name": "stdout",
          "text": "Ground truth counts: 3\nPredicted counts: 384\nPercentage for image 200: 12800.0\n"
        },
        {
          "output_type": "stream",
          "name": "stderr",
          "text": "\n100%|████████████████████████████████████████████████████████████████████████████████████████████████████| 10/10 [00:05<00:00,  1.73it/s]"
        },
        {
          "output_type": "stream",
          "name": "stdout",
          "text": "Ground truth counts: 5\nPredicted counts: 384\nPercentage for image 201: 7680.0\nTotal ground truth counts: 8373\nTotal predicted counts: 16144\nOverall Percentage is: 192.81\n"
        },
        {
          "output_type": "stream",
          "name": "stderr",
          "text": "\n"
        }
      ],
      "execution_count": 223,
      "metadata": {},
      "id": "d9c84c15-147b-453f-8986-d1922d4cb0c7"
    },
    {
      "cell_type": "code",
      "source": [
        "%%time\n",
        "from gluoncv.data.transforms.presets.ssd import load_test\n",
        "from gluoncv import model_zoo, data, utils\n",
        "\n",
        "# prediction_image = 'DJI_20210928101631_0007_t0000_b0546_l6656_r7168.jpg'\n",
        "# prediction_path = f'/media/polydatum/Seagate/dev/bird-counting/data/slices-trainval/DJI_202109281012_017_Mid_Lake_1010_70m_D2_50mm_10-lap/sliced_images/{prediction_image}'\n",
        "prediction_image = \"DJI_20210928101623_0003_t4914_b5460_l7168_r7680.jpg\"\n",
        "prediction_path = f\"./data/slices-trainval/DJI_202109281012_017_Mid_Lake_1010_70m_D2_50mm_10-lap/sliced_images/{prediction_image}\"\n",
        "\n",
        "results, org_image = infer(prediction_path)\n",
        "results[:, (2, 4)] *= SHAPE\n",
        "results[:, (3, 5)] *= SHAPE\n",
        "fig, axes = plt.subplots(nrows=1, ncols=1, figsize=(15, 10), facecolor='white', dpi=100)\n",
        "axis=axes\n",
        "\n",
        "ax = viz.plot_bbox(org_image, results[:,-4:], results[:,1], results[:,0],thresh=0.1, class_names=CLASSES, ax=axis)\n",
        "# plt.savefig(os.path.splitext('../results/latest-model/outputs/'+prediction_image)[0]+'_inference.jpg')\n",
        "# from mxnet import image\n",
        "# x, img = load_test(prediction_path, short=512)\n",
        "\n",
        "# from PIL import Image\n",
        "# from skimage.transform import resize\n",
        "\n",
        "# image = mx.ndarray.array(resize(img.astype(np.uint8), (512,512,3)))\n",
        "# type(image)\n",
        "# image = transform_test(image, ctx)\n",
        "# class_IDs, scores, bounding_boxes = net(x)\n",
        "\n",
        "\n",
        "# plt.rcParams[\"figure.figsize\"] = (20,10)\n",
        "# plt.rcParams.update({'font.size': 25})\n",
        "# ax = utils.viz.plot_bbox(image, bounding_boxes[0], scores[0],\n",
        "#                          class_IDs[0], class_names=net.classes)\n",
        "plt.show()"
      ],
      "outputs": [
        {
          "output_type": "error",
          "ename": "NameError",
          "evalue": "name 'infer' is not defined",
          "traceback": [
            "\u001b[0;31m---------------------------------------------------------------------------\u001b[0m",
            "\u001b[0;31mNameError\u001b[0m                                 Traceback (most recent call last)",
            "\u001b[0;32m<timed exec>\u001b[0m in \u001b[0;36m<module>\u001b[0;34m\u001b[0m\n",
            "\u001b[0;31mNameError\u001b[0m: name 'infer' is not defined"
          ]
        }
      ],
      "execution_count": 32,
      "metadata": {},
      "id": "403b0c30-4200-48cb-985f-257eb92b108d"
    },
    {
      "cell_type": "code",
      "source": [
        "folder = \"../data/nonempty-slices/holdout-inference\"\n",
        "files = os.listdir(folder)\n",
        "\n",
        "for prediction_image in tqdm(files):\n",
        "    if '_0201_' in prediction_image:\n",
        "        prediction_path = f'{folder}/{prediction_image}'\n",
        "        results, org_image = infer(prediction_path)\n",
        "        results[:, (2, 4)] *= SHAPE\n",
        "        results[:, (3, 5)] *= SHAPE\n",
        "        fig, axes = plt.subplots(nrows=1, ncols=1, figsize=(15, 10), facecolor='white', dpi=100)\n",
        "        axis=axes\n",
        "\n",
        "        ax = viz.plot_bbox(org_image, results[:,-4:], results[:,1], results[:,0],thresh=0.1, class_names=CLASSES, ax=axis)\n",
        "        plt.savefig(os.path.splitext('../results/latest-model/outputs/'+prediction_image)[0]+'_inference.jpg')\n",
        "        # Clear the current axes.\n",
        "        plt.cla() \n",
        "        # Clear the current figure.\n",
        "        plt.clf() \n",
        "        # Closes all the figure windows.\n",
        "        plt.close('all')"
      ],
      "outputs": [
        {
          "output_type": "stream",
          "name": "stderr",
          "text": "100%|████████████████████████████████████████████████████████████████████████████████████████████████████████████████████████████████████████████████| 2720/2720 [01:16<00:00, 35.47it/s]\n"
        }
      ],
      "execution_count": 8,
      "metadata": {
        "tags": []
      },
      "id": "fd525c6b-1598-41b4-98c4-b55ff1531f2d"
    },
    {
      "cell_type": "code",
      "source": [
        "val_results = {}\n",
        "with open(output_file, 'r') as f:\n",
        "    data = f.readlines()\n",
        "    for datum in data:\n",
        "        temp = json.loads(datum.replace('\\n',''))\n",
        "        img_id = temp['image'].split('_')[2]\n",
        "        if val_results.get(img_id):\n",
        "            val_results[img_id] += len(temp['prediction'])\n",
        "        else:\n",
        "            val_results[img_id] = len(temp['prediction'])"
      ],
      "outputs": [],
      "execution_count": 12,
      "metadata": {},
      "id": "91259c0c-5a2b-4ca8-99e6-edb9d447a4dd"
    },
    {
      "cell_type": "code",
      "source": [
        "hold_results = {}\n",
        "for id in hold_ids:\n",
        "    key = f\"{id:04d}\"\n",
        "    value = val_results[f\"{id:04d}\"]\n",
        "    hold_results[key] = value"
      ],
      "outputs": [],
      "execution_count": 13,
      "metadata": {},
      "id": "464078a7-7ab0-4ae1-99d5-8c646bb788c8"
    },
    {
      "cell_type": "code",
      "source": [
        "xs = []\n",
        "ys = []\n",
        "for key, value in count_dict.items():\n",
        "    img_id = os.path.splitext(key.split('_')[2])[0]\n",
        "    if hold_results.get(img_id):\n",
        "        xs.append(value)\n",
        "        ys.append(hold_results[img_id])\n",
        "\n",
        "# xs.extend([\n",
        "xs = np.array(xs)\n",
        "ys = np.array(ys)\n",
        "xs_fit = xs[:,np.newaxis]\n",
        "\n",
        "a, res, _, _ = np.linalg.lstsq(xs_fit, ys, rcond=None)\n",
        "r2 = 1 - res / (ys.size * ys.var())\n",
        "a,r2"
      ],
      "outputs": [
        {
          "output_type": "execute_result",
          "execution_count": 14,
          "data": {
            "text/plain": "(array([0.94724793]), array([0.99221081]))"
          },
          "metadata": {}
        }
      ],
      "execution_count": 14,
      "metadata": {},
      "id": "13147d2e-071a-4a92-b3be-42c93e4260c1"
    },
    {
      "cell_type": "code",
      "source": [
        "import matplotlib.pyplot as plt\n",
        "import pylab\n",
        "plt.rcParams[\"figure.figsize\"] = (20,10)\n",
        "plt.rcParams.update({'font.size': 25})\n",
        "\n",
        "# pylab.plot(xs,ys,'o')\n",
        "# pylab.plot(xs,a*xs,\"r--\")\n",
        "pylab.loglog(xs,ys,'o')\n",
        "pylab.loglog(xs,a*xs,\"r--\")\n",
        "plt.xlim(0.9,2200)\n",
        "plt.ylim(0.9,2200)\n",
        "plt.ylabel('Predicted Count')\n",
        "plt.xlabel('True Count')\n",
        "plt.title('Comparing Ground Truth and Predicted Counts (Holdout Set)')\n",
        "plt.text(np.log(800), np.log(4000), f\"y={a[0]:.3f}x,\" + \" $\\mathregular{R^{2}}$\" + f\"= {r2[0]:0.3f}\", rotation = 25)\n",
        "plt.text(650, 670, f\"y={a[0]:.3f}x,\" + \" $\\mathregular{R^{2}}$\" + f\"= {r2[0]:0.3f}\", rotation = 25)\n",
        "plt.savefig(\"../results/latest-model/loglog_latestmodel_comparing_true_vs_predicted_counts.png\")\n",
        "plt.savefig(\"../results/latest-model/linear_latestmodel_comparing_true_vs_predicted_counts.png\")"
      ],
      "outputs": [
        {
          "output_type": "display_data",
          "data": {
            "image/png": "[encoded data removed]",
            "text/plain": "<Figure size 1440x720 with 1 Axes>"
          },
          "metadata": {
            "needs_background": "light"
          }
        }
      ],
      "execution_count": 21,
      "metadata": {},
      "id": "bff97475-3e00-4cec-99e7-65b1e4792794"
    },
    {
      "cell_type": "code",
      "source": [
        "maxn = np.max(list(count_dict.values()))\n",
        "results = {}\n",
        "for key, x in count_dict.items():\n",
        "    img_id = os.path.splitext(key.split('_')[2])[0]\n",
        "    if hold_results.get(img_id):\n",
        "        y = hold_results[img_id]\n",
        "        results[img_id] = {'x': x, 'y': y, '%': float(f\"{(x+y)/(y+maxn)*200*(y-x)/(x+y):0.02f}\")}\n",
        "results"
      ],
      "outputs": [],
      "execution_count": null,
      "metadata": {},
      "id": "8306bb7e-695a-4245-bb5d-c533707b26df"
    },
    {
      "cell_type": "code",
      "source": [],
      "outputs": [],
      "execution_count": null,
      "metadata": {},
      "id": "6b9fb105-673f-4c5d-be58-37bb96c4b6ac"
    }
  ],
  "metadata": {
    "kernelspec": {
      "name": "waterbirds",
      "language": "python",
      "display_name": "waterbirds"
    },
    "language_info": {
      "name": "python",
      "version": "3.9.7",
      "mimetype": "text/x-python",
      "codemirror_mode": {
        "name": "ipython",
        "version": 3
      },
      "pygments_lexer": "ipython3",
      "nbconvert_exporter": "python",
      "file_extension": ".py"
    },
    "kernel_info": {
      "name": "waterbirds"
    },
    "nteract": {
      "version": "nteract-front-end@1.0.0"
    }
  },
  "nbformat": 4,
  "nbformat_minor": 5
}