version https://git-lfs.github.com/spec/v1
oid sha256:ad34d52cd0d3e75abe0e32ba9f477a4c426ab217ece96af1da11a45234da5007
size 101377
