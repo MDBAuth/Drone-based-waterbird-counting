version https://git-lfs.github.com/spec/v1
oid sha256:9c8a7cc3af5ab933652d69a8f38100aa9b7adc6219c7263b28ec58852db75ae0
size 818100
