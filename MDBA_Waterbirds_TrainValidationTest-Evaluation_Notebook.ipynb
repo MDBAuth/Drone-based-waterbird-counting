version https://git-lfs.github.com/spec/v1
oid sha256:2e293f19de02dadbcd0770ffd5b6e8cf4f408b8a6c9fdda15994ae2613b1af25
size 19121
